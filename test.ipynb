{
 "cells": [
  {
   "cell_type": "code",
   "execution_count": 9,
   "id": "e10b42e6-1c0b-44e3-8ea7-07f298dab938",
   "metadata": {},
   "outputs": [
    {
     "name": "stderr",
     "output_type": "stream",
     "text": [
      "[nltk_data] Downloading package stopwords to C:\\Users\\Chong Pei\n",
      "[nltk_data]     Chen\\AppData\\Roaming\\nltk_data...\n",
      "[nltk_data]   Package stopwords is already up-to-date!\n",
      "[nltk_data] Downloading package punkt to C:\\Users\\Chong Pei\n",
      "[nltk_data]     Chen\\AppData\\Roaming\\nltk_data...\n",
      "[nltk_data]   Package punkt is already up-to-date!\n"
     ]
    },
    {
     "name": "stdout",
     "output_type": "stream",
     "text": [
      "Accuracy with Naive Bayes: 0.8847276264591439\n"
     ]
    },
    {
     "data": {
      "text/plain": [
       "['tfidf_vectorizer.joblib']"
      ]
     },
     "execution_count": 9,
     "metadata": {},
     "output_type": "execute_result"
    }
   ],
   "source": [
    "import numpy as np\n",
    "import pandas as pd\n",
    "import re\n",
    "import string\n",
    "import nltk\n",
    "from nltk.corpus import stopwords\n",
    "from nltk.stem import LancasterStemmer\n",
    "from sklearn.feature_extraction.text import TfidfVectorizer\n",
    "from sklearn.model_selection import train_test_split\n",
    "from sklearn.naive_bayes import MultinomialNB\n",
    "from sklearn.metrics import accuracy_score\n",
    "import joblib\n",
    "\n",
    "# Download NLTK data if not already downloaded\n",
    "nltk.download('stopwords')\n",
    "nltk.download('punkt')\n",
    "\n",
    "# Load dataset\n",
    "df = pd.read_csv(\"Amazon-Product-Reviews.csv\")\n",
    "\n",
    "# Drop missing values\n",
    "df = df.dropna()\n",
    "\n",
    "# Drop duplicates\n",
    "df = df.drop_duplicates()\n",
    "\n",
    "# Convert text to lower case\n",
    "df[\"review_body\"] = df[\"review_body\"].str.lower()\n",
    "\n",
    "# Remove HTML tags\n",
    "def remove_html_tags(text):\n",
    "    pattern = re.compile('<.*?>')\n",
    "    return pattern.sub('', text)\n",
    "df['review_body'] = df['review_body'].apply(remove_html_tags)\n",
    "\n",
    "# Remove punctuation\n",
    "def remove_punc(text):\n",
    "    return text.translate(str.maketrans('', '', string.punctuation))\n",
    "df['review_body'] = df['review_body'].apply(remove_punc)\n",
    "\n",
    "# Remove stopwords\n",
    "stop_words = set(stopwords.words('english'))\n",
    "def remove_stopwords(text):\n",
    "    words = text.split()\n",
    "    filtered_words = [word for word in words if word not in stop_words]\n",
    "    return \" \".join(filtered_words)\n",
    "df['review_body'] = df['review_body'].apply(remove_stopwords)\n",
    "\n",
    "# Remove emojis\n",
    "def remove_emoji(text):\n",
    "    emoji_pattern = re.compile(\"[\"\n",
    "                             u\"\\U0001F600-\\U0001F64F\"  # emoticons\n",
    "                             u\"\\U0001F300-\\U0001F5FF\"  # symbols, pictograph\n",
    "                             u\"\\U0001F680-\\U0001F6FF\"  # transport and map symbol\n",
    "                             u\"\\U0001F1E0-\\U0001F1FF\"  # flags (iOS)\n",
    "                             u\"\\U00002702-\\U000027B0\"\n",
    "                             u\"\\U00002FC2-\\U0001F251\"\n",
    "                             \"]+\", flags=re.UNICODE)\n",
    "    return emoji_pattern.sub(r'', text)\n",
    "df['review_body'] = df['review_body'].apply(remove_emoji)\n",
    "\n",
    "# Tokenization and stemming\n",
    "def preprocess_text(text):\n",
    "    lancaster_stemmer = LancasterStemmer()\n",
    "    words = nltk.word_tokenize(text)\n",
    "    stemmed_words = [lancaster_stemmer.stem(word) for word in words]\n",
    "    return ' '.join(stemmed_words)\n",
    "\n",
    "df['Processed_review_body'] = df['review_body'].apply(preprocess_text)\n",
    "\n",
    "# Add sentiment based on star_rating\n",
    "def star_rating_sentiment(rating):\n",
    "    return 1 if rating in [4, 5] else 0\n",
    "\n",
    "df['star_rating_sentiment'] = df['star_rating'].apply(star_rating_sentiment)\n",
    "\n",
    "# Combine sentiments\n",
    "df['combined_sentiment'] = df.apply(lambda row: 1 if (row['sentiment'] == 1 and row['star_rating_sentiment'] == 1) else 0, axis=1)\n",
    "\n",
    "# Split the data\n",
    "X = df['Processed_review_body']\n",
    "y = df['combined_sentiment']\n",
    "\n",
    "# Vectorize processed text\n",
    "vectorizer = TfidfVectorizer(max_features=1000, ngram_range=(1, 2))\n",
    "X_vect = vectorizer.fit_transform(X)\n",
    "\n",
    "# Split data into training and testing sets\n",
    "X_train, X_test, y_train, y_test = train_test_split(X_vect, y, test_size=0.2, random_state=42)\n",
    "\n",
    "# Train the Naive Bayes model\n",
    "model = MultinomialNB()\n",
    "model.fit(X_train, y_train)\n",
    "\n",
    "# Predict and evaluate the model\n",
    "y_pred = model.predict(X_test)\n",
    "accuracy = accuracy_score(y_test, y_pred)\n",
    "print(f\"Accuracy with Naive Bayes: {accuracy}\")\n",
    "\n",
    "# Save the trained model and vectorizer\n",
    "joblib.dump(model, 'naive_bayes_model.joblib')\n",
    "joblib.dump(vectorizer, 'tfidf_vectorizer.joblib')\n"
   ]
  },
  {
   "cell_type": "code",
   "execution_count": null,
   "id": "b13718c2-3561-4941-819d-0aeb137eac6f",
   "metadata": {},
   "outputs": [],
   "source": []
  }
 ],
 "metadata": {
  "kernelspec": {
   "display_name": "Python 3 (ipykernel)",
   "language": "python",
   "name": "python3"
  },
  "language_info": {
   "codemirror_mode": {
    "name": "ipython",
    "version": 3
   },
   "file_extension": ".py",
   "mimetype": "text/x-python",
   "name": "python",
   "nbconvert_exporter": "python",
   "pygments_lexer": "ipython3",
   "version": "3.12.4"
  }
 },
 "nbformat": 4,
 "nbformat_minor": 5
}
